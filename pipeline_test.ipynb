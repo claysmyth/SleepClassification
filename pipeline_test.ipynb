{
 "cells": [
  {
   "cell_type": "code",
   "execution_count": 59,
   "outputs": [
    {
     "name": "stdout",
     "output_type": "stream",
     "text": [
      "The autoreload extension is already loaded. To reload it, use:\n",
      "  %reload_ext autoreload\n"
     ]
    }
   ],
   "source": [
    "%load_ext autoreload"
   ],
   "metadata": {
    "collapsed": false,
    "pycharm": {
     "name": "#%%\n"
    }
   }
  },
  {
   "cell_type": "code",
   "execution_count": 60,
   "outputs": [],
   "source": [
    "%autoreload 2"
   ],
   "metadata": {
    "collapsed": false,
    "pycharm": {
     "name": "#%%\n"
    }
   }
  },
  {
   "cell_type": "code",
   "execution_count": 318,
   "outputs": [],
   "source": [
    "import recordingsessions as rs\n",
    "import numpy as np\n",
    "import matplotlib.pyplot as plt"
   ],
   "metadata": {
    "collapsed": false,
    "pycharm": {
     "name": "#%%\n"
    }
   }
  },
  {
   "cell_type": "code",
   "execution_count": 15,
   "outputs": [],
   "source": [
    "july_2 = rs.RecordingSession(\"/Users/claysmyth/Desktop/Starr/RCS_Hypno_Data/RCS02L/7_2_21/Session1625208847952/DeviceNPC700398H/combinedDataTable.csv\")"
   ],
   "metadata": {
    "collapsed": false,
    "pycharm": {
     "name": "#%%\n"
    }
   }
  },
  {
   "cell_type": "code",
   "execution_count": 16,
   "outputs": [],
   "source": [
    "july_2.load_dreem('/Users/claysmyth/Desktop/Starr/RCS_Hypno_Data/DREEM/Patient_RCS02/7_2_21/hypnoCleaned.csv')\n"
   ],
   "metadata": {
    "collapsed": false,
    "pycharm": {
     "name": "#%%\n"
    }
   }
  },
  {
   "cell_type": "code",
   "execution_count": 19,
   "outputs": [
    {
     "data": {
      "text/plain": "localTime                                         01-Jul-2021 23:55:37.128\nDerivedTime                                                  1625208937128\nTD_key0                                                          -0.083078\nTD_key1                                                          -0.153913\nTD_key2                                                          -0.101728\nTD_key3                                                           0.007407\nTD_samplerate                                                          NaN\nPower_ExternalValuesMask                                               NaN\nPower_FftSize                                                          NaN\nPower_IsPowerChannelOverrange                                          NaN\nPower_ValidDataMask                                                    NaN\nPower_Band1                                                            NaN\nPower_Band2                                                            NaN\nPower_Band3                                                            NaN\nPower_Band4                                                            NaN\nPower_Band5                                                            NaN\nPower_Band6                                                            NaN\nPower_Band7                                                            NaN\nPower_Band8                                                            NaN\nAdaptive_CurrentAdaptiveState                                          NaN\nAdaptive_CurrentProgramAmplitudesInMilliamps_1                         NaN\nAdaptive_CurrentProgramAmplitudesInMilliamps_2                         NaN\nAdaptive_CurrentProgramAmplitudesInMilliamps_3                         NaN\nAdaptive_CurrentProgramAmplitudesInMilliamps_4                         NaN\nAdaptive_IsInHoldOffOnStartup                                          NaN\nAdaptive_Ld0DetectionStatus                                            NaN\nAdaptive_Ld1DetectionStatus                                            NaN\nAdaptive_PreviousAdaptiveState                                         NaN\nAdaptive_SensingStatus                                                 NaN\nAdaptive_StateEntryCount                                               NaN\nAdaptive_StateTime                                                     NaN\nAdaptive_StimFlags                                                     NaN\nAdaptive_StimRateInHz                                                  NaN\nAdaptive_Ld0_featureInputs_1                                           NaN\nAdaptive_Ld0_featureInputs_2                                           NaN\nAdaptive_Ld0_featureInputs_3                                           NaN\nAdaptive_Ld0_featureInputs_4                                           NaN\nAdaptive_Ld0_fixedDecimalPoint                                         NaN\nAdaptive_Ld0_highThreshold                                             NaN\nAdaptive_Ld0_lowThreshold                                              NaN\nAdaptive_Ld0_output                                                    NaN\nAdaptive_Ld1_featureInputs_1                                           NaN\nAdaptive_Ld1_featureInputs_2                                           NaN\nAdaptive_Ld1_featureInputs_3                                           NaN\nAdaptive_Ld1_featureInputs_4                                           NaN\nAdaptive_Ld1_fixedDecimalPoint                                         NaN\nAdaptive_Ld1_highThreshold                                             NaN\nAdaptive_Ld1_lowThreshold                                              NaN\nAdaptive_Ld1_output                                                    NaN\nName: 0, dtype: object"
     },
     "execution_count": 19,
     "metadata": {},
     "output_type": "execute_result"
    }
   ],
   "source": [
    "july_2.rcs_df.iloc[0]"
   ],
   "metadata": {
    "collapsed": false,
    "pycharm": {
     "name": "#%%\n"
    }
   }
  },
  {
   "cell_type": "code",
   "execution_count": 22,
   "outputs": [
    {
     "data": {
      "text/plain": "array([6.000e+00, 2.400e+01, 4.400e+01, 1.000e+01, 1.600e+01, 4.300e+01,\n       1.230e+02, 8.400e+01, 2.200e+01, 2.100e+01, 3.600e+01, 3.600e+01,\n       4.000e+01, 1.010e+02, 8.500e+01, 1.130e+02, 2.100e+01, 3.100e+01,\n       4.100e+01, 1.800e+01, 2.200e+01, 1.800e+01, 5.400e+01, 8.000e+00,\n       0.000e+00, 1.600e+01, 6.100e+01, 1.200e+01, 9.100e+01, 9.000e+00,\n       9.000e+00, 3.500e+01, 8.700e+01, 7.200e+01, 2.100e+01, 4.400e+01,\n       1.800e+01, 1.100e+01, 3.000e+00, 8.000e+00, 6.300e+01, 2.600e+01,\n       7.000e+00, 2.600e+01, 5.600e+01, 1.800e+01, 2.100e+01, 5.000e+00,\n       2.300e+01, 9.000e+00, 1.600e+01, 2.700e+01, 2.100e+01, 5.900e+01,\n       2.900e+01, 2.500e+01, 1.400e+01, 2.000e+00, 4.800e+01, 2.800e+01,\n       6.900e+01, 1.900e+01, 1.900e+01, 2.500e+01, 1.300e+01, 4.200e+01,\n       2.400e+01, 2.600e+01, 1.500e+01, 1.400e+01, 1.300e+01, 9.000e+00,\n       1.800e+01, 5.200e+01, 6.000e+00, 2.700e+01, 4.100e+01, 1.600e+01,\n       1.600e+01, 2.500e+01, 2.000e+00, 6.900e+01, 2.500e+01, 5.000e+00,\n       1.300e+01, 6.000e+00, 3.000e+00, 1.100e+01, 1.200e+01, 4.000e+00,\n       2.100e+01, 4.000e+01, 4.000e+00, 6.000e+00, 2.700e+01, 7.100e+01,\n       2.677e+03, 2.580e+03, 6.980e+02, 1.530e+02])"
     },
     "execution_count": 22,
     "metadata": {},
     "output_type": "execute_result"
    }
   ],
   "source": [
    "july_2.rcs_df[\"Power_Band1\"].iloc[:100].values"
   ],
   "metadata": {
    "collapsed": false,
    "pycharm": {
     "name": "#%%\n"
    }
   }
  },
  {
   "cell_type": "code",
   "execution_count": 20,
   "outputs": [
    {
     "name": "stdout",
     "output_type": "stream",
     "text": [
      "Warning: This function replaces this object's rcs_df field with an rcs_df that has Nans permanently removed.\n",
      "To create original rcs_df, recreate RecordingSession object with identical filepath.\n"
     ]
    }
   ],
   "source": [
    "july_2.drop_Nan(\"Power_Band1\")"
   ],
   "metadata": {
    "collapsed": false,
    "pycharm": {
     "name": "#%%\n"
    }
   }
  },
  {
   "cell_type": "code",
   "execution_count": 23,
   "outputs": [
    {
     "name": "stderr",
     "output_type": "stream",
     "text": [
      "/opt/anaconda3/envs/sleep_class/lib/python3.9/site-packages/pandas/core/indexing.py:1637: SettingWithCopyWarning: \n",
      "A value is trying to be set on a copy of a slice from a DataFrame\n",
      "\n",
      "See the caveats in the documentation: https://pandas.pydata.org/pandas-docs/stable/user_guide/indexing.html#returning-a-view-versus-a-copy\n",
      "  self._setitem_single_block(indexer, value, name)\n"
     ]
    }
   ],
   "source": [
    "july_2.label_rcs_data()"
   ],
   "metadata": {
    "collapsed": false,
    "pycharm": {
     "name": "#%%\n"
    }
   }
  },
  {
   "cell_type": "code",
   "execution_count": 29,
   "outputs": [],
   "source": [
    "rcs02 = rs.Patient()"
   ],
   "metadata": {
    "collapsed": false,
    "pycharm": {
     "name": "#%%\n"
    }
   }
  },
  {
   "cell_type": "code",
   "execution_count": 30,
   "outputs": [],
   "source": [
    "rcs02.add_session(name='july_2', session=july_2)"
   ],
   "metadata": {
    "collapsed": false,
    "pycharm": {
     "name": "#%%\n"
    }
   }
  },
  {
   "cell_type": "code",
   "execution_count": 32,
   "outputs": [
    {
     "data": {
      "text/plain": "                      localTime    DerivedTime   TD_key0   TD_key1   TD_key2  \\\n0      01-Jul-2021 23:55:37.384  1625208937384 -0.084379 -0.153150 -0.115227   \n1      01-Jul-2021 23:55:37.884  1625208937884 -0.068328 -0.138118 -0.108315   \n2      01-Jul-2021 23:55:38.384  1625208938384 -0.066484 -0.136485 -0.142224   \n3      01-Jul-2021 23:55:38.884  1625208938884 -0.069195 -0.138990 -0.112959   \n4      01-Jul-2021 23:55:39.384  1625208939384 -0.082969 -0.151299 -0.123326   \n...                         ...            ...       ...       ...       ...   \n27338  02-Jul-2021 03:43:30.384  1625222610384 -0.058675 -0.130058 -0.069006   \n27339  02-Jul-2021 03:43:30.884  1625222610884 -0.057157 -0.126899 -0.091361   \n27340  02-Jul-2021 03:43:31.384  1625222611384 -0.053686 -0.121453 -0.109503   \n27341  02-Jul-2021 03:43:31.884  1625222611884 -0.053035 -0.118294 -0.117170   \n27342  02-Jul-2021 03:43:32.384  1625222612384       NaN       NaN       NaN   \n\n        TD_key3  TD_samplerate  Power_ExternalValuesMask  Power_FftSize  \\\n0     -0.009150            NaN                       0.0          256.0   \n1      0.004139            NaN                       0.0          256.0   \n2     -0.032460            NaN                       0.0          256.0   \n3     -0.003703            NaN                       0.0          256.0   \n4     -0.013398            NaN                       0.0          256.0   \n...         ...            ...                       ...            ...   \n27338  0.039213            NaN                       0.0          256.0   \n27339  0.018409            NaN                       0.0          256.0   \n27340 -0.001743            NaN                       0.0          256.0   \n27341 -0.006100            NaN                       0.0          256.0   \n27342       NaN            NaN                       0.0          256.0   \n\n       Power_IsPowerChannelOverrange  ...  Adaptive_Ld1_featureInputs_1  \\\n0                                0.0  ...                         119.0   \n1                                0.0  ...                         119.0   \n2                                0.0  ...                         119.0   \n3                                0.0  ...                         119.0   \n4                                0.0  ...                         119.0   \n...                              ...  ...                           ...   \n27338                            0.0  ...                         218.0   \n27339                            0.0  ...                         218.0   \n27340                            0.0  ...                         218.0   \n27341                            0.0  ...                         218.0   \n27342                            0.0  ...                         218.0   \n\n       Adaptive_Ld1_featureInputs_2  Adaptive_Ld1_featureInputs_3  \\\n0                             127.0                           0.0   \n1                             127.0                           0.0   \n2                             127.0                           0.0   \n3                             127.0                           0.0   \n4                             127.0                           0.0   \n...                             ...                           ...   \n27338                         104.0                           0.0   \n27339                         104.0                           0.0   \n27340                         104.0                           0.0   \n27341                         104.0                           0.0   \n27342                         104.0                           0.0   \n\n       Adaptive_Ld1_featureInputs_4  Adaptive_Ld1_fixedDecimalPoint  \\\n0                               0.0                            10.0   \n1                               0.0                            10.0   \n2                               0.0                            10.0   \n3                               0.0                            10.0   \n4                               0.0                            10.0   \n...                             ...                             ...   \n27338                           0.0                            10.0   \n27339                           0.0                            10.0   \n27340                           0.0                            10.0   \n27341                           0.0                            10.0   \n27342                           0.0                            10.0   \n\n       Adaptive_Ld1_highThreshold  Adaptive_Ld1_lowThreshold  \\\n0                          1024.0                        0.0   \n1                          1024.0                        0.0   \n2                          1024.0                        0.0   \n3                          1024.0                        0.0   \n4                          1024.0                        0.0   \n...                           ...                        ...   \n27338                      1024.0                        0.0   \n27339                      1024.0                        0.0   \n27340                      1024.0                        0.0   \n27341                      1024.0                        0.0   \n27342                      1024.0                        0.0   \n\n       Adaptive_Ld1_output  MatchTime SleepStage  \n0             4.294297e+09   23:55:37         -1  \n1             4.294297e+09   23:55:37         -1  \n2             4.294297e+09   23:55:38         -1  \n3             4.294297e+09   23:55:38         -1  \n4             4.294297e+09   23:55:39         -1  \n...                    ...        ...        ...  \n27338         4.294438e+09   03:43:30          2  \n27339         4.294438e+09   03:43:30          2  \n27340         4.294438e+09   03:43:31          2  \n27341         4.294438e+09   03:43:31          2  \n27342         4.294438e+09   03:43:32          2  \n\n[27343 rows x 51 columns]",
      "text/html": "<div>\n<style scoped>\n    .dataframe tbody tr th:only-of-type {\n        vertical-align: middle;\n    }\n\n    .dataframe tbody tr th {\n        vertical-align: top;\n    }\n\n    .dataframe thead th {\n        text-align: right;\n    }\n</style>\n<table border=\"1\" class=\"dataframe\">\n  <thead>\n    <tr style=\"text-align: right;\">\n      <th></th>\n      <th>localTime</th>\n      <th>DerivedTime</th>\n      <th>TD_key0</th>\n      <th>TD_key1</th>\n      <th>TD_key2</th>\n      <th>TD_key3</th>\n      <th>TD_samplerate</th>\n      <th>Power_ExternalValuesMask</th>\n      <th>Power_FftSize</th>\n      <th>Power_IsPowerChannelOverrange</th>\n      <th>...</th>\n      <th>Adaptive_Ld1_featureInputs_1</th>\n      <th>Adaptive_Ld1_featureInputs_2</th>\n      <th>Adaptive_Ld1_featureInputs_3</th>\n      <th>Adaptive_Ld1_featureInputs_4</th>\n      <th>Adaptive_Ld1_fixedDecimalPoint</th>\n      <th>Adaptive_Ld1_highThreshold</th>\n      <th>Adaptive_Ld1_lowThreshold</th>\n      <th>Adaptive_Ld1_output</th>\n      <th>MatchTime</th>\n      <th>SleepStage</th>\n    </tr>\n  </thead>\n  <tbody>\n    <tr>\n      <th>0</th>\n      <td>01-Jul-2021 23:55:37.384</td>\n      <td>1625208937384</td>\n      <td>-0.084379</td>\n      <td>-0.153150</td>\n      <td>-0.115227</td>\n      <td>-0.009150</td>\n      <td>NaN</td>\n      <td>0.0</td>\n      <td>256.0</td>\n      <td>0.0</td>\n      <td>...</td>\n      <td>119.0</td>\n      <td>127.0</td>\n      <td>0.0</td>\n      <td>0.0</td>\n      <td>10.0</td>\n      <td>1024.0</td>\n      <td>0.0</td>\n      <td>4.294297e+09</td>\n      <td>23:55:37</td>\n      <td>-1</td>\n    </tr>\n    <tr>\n      <th>1</th>\n      <td>01-Jul-2021 23:55:37.884</td>\n      <td>1625208937884</td>\n      <td>-0.068328</td>\n      <td>-0.138118</td>\n      <td>-0.108315</td>\n      <td>0.004139</td>\n      <td>NaN</td>\n      <td>0.0</td>\n      <td>256.0</td>\n      <td>0.0</td>\n      <td>...</td>\n      <td>119.0</td>\n      <td>127.0</td>\n      <td>0.0</td>\n      <td>0.0</td>\n      <td>10.0</td>\n      <td>1024.0</td>\n      <td>0.0</td>\n      <td>4.294297e+09</td>\n      <td>23:55:37</td>\n      <td>-1</td>\n    </tr>\n    <tr>\n      <th>2</th>\n      <td>01-Jul-2021 23:55:38.384</td>\n      <td>1625208938384</td>\n      <td>-0.066484</td>\n      <td>-0.136485</td>\n      <td>-0.142224</td>\n      <td>-0.032460</td>\n      <td>NaN</td>\n      <td>0.0</td>\n      <td>256.0</td>\n      <td>0.0</td>\n      <td>...</td>\n      <td>119.0</td>\n      <td>127.0</td>\n      <td>0.0</td>\n      <td>0.0</td>\n      <td>10.0</td>\n      <td>1024.0</td>\n      <td>0.0</td>\n      <td>4.294297e+09</td>\n      <td>23:55:38</td>\n      <td>-1</td>\n    </tr>\n    <tr>\n      <th>3</th>\n      <td>01-Jul-2021 23:55:38.884</td>\n      <td>1625208938884</td>\n      <td>-0.069195</td>\n      <td>-0.138990</td>\n      <td>-0.112959</td>\n      <td>-0.003703</td>\n      <td>NaN</td>\n      <td>0.0</td>\n      <td>256.0</td>\n      <td>0.0</td>\n      <td>...</td>\n      <td>119.0</td>\n      <td>127.0</td>\n      <td>0.0</td>\n      <td>0.0</td>\n      <td>10.0</td>\n      <td>1024.0</td>\n      <td>0.0</td>\n      <td>4.294297e+09</td>\n      <td>23:55:38</td>\n      <td>-1</td>\n    </tr>\n    <tr>\n      <th>4</th>\n      <td>01-Jul-2021 23:55:39.384</td>\n      <td>1625208939384</td>\n      <td>-0.082969</td>\n      <td>-0.151299</td>\n      <td>-0.123326</td>\n      <td>-0.013398</td>\n      <td>NaN</td>\n      <td>0.0</td>\n      <td>256.0</td>\n      <td>0.0</td>\n      <td>...</td>\n      <td>119.0</td>\n      <td>127.0</td>\n      <td>0.0</td>\n      <td>0.0</td>\n      <td>10.0</td>\n      <td>1024.0</td>\n      <td>0.0</td>\n      <td>4.294297e+09</td>\n      <td>23:55:39</td>\n      <td>-1</td>\n    </tr>\n    <tr>\n      <th>...</th>\n      <td>...</td>\n      <td>...</td>\n      <td>...</td>\n      <td>...</td>\n      <td>...</td>\n      <td>...</td>\n      <td>...</td>\n      <td>...</td>\n      <td>...</td>\n      <td>...</td>\n      <td>...</td>\n      <td>...</td>\n      <td>...</td>\n      <td>...</td>\n      <td>...</td>\n      <td>...</td>\n      <td>...</td>\n      <td>...</td>\n      <td>...</td>\n      <td>...</td>\n      <td>...</td>\n    </tr>\n    <tr>\n      <th>27338</th>\n      <td>02-Jul-2021 03:43:30.384</td>\n      <td>1625222610384</td>\n      <td>-0.058675</td>\n      <td>-0.130058</td>\n      <td>-0.069006</td>\n      <td>0.039213</td>\n      <td>NaN</td>\n      <td>0.0</td>\n      <td>256.0</td>\n      <td>0.0</td>\n      <td>...</td>\n      <td>218.0</td>\n      <td>104.0</td>\n      <td>0.0</td>\n      <td>0.0</td>\n      <td>10.0</td>\n      <td>1024.0</td>\n      <td>0.0</td>\n      <td>4.294438e+09</td>\n      <td>03:43:30</td>\n      <td>2</td>\n    </tr>\n    <tr>\n      <th>27339</th>\n      <td>02-Jul-2021 03:43:30.884</td>\n      <td>1625222610884</td>\n      <td>-0.057157</td>\n      <td>-0.126899</td>\n      <td>-0.091361</td>\n      <td>0.018409</td>\n      <td>NaN</td>\n      <td>0.0</td>\n      <td>256.0</td>\n      <td>0.0</td>\n      <td>...</td>\n      <td>218.0</td>\n      <td>104.0</td>\n      <td>0.0</td>\n      <td>0.0</td>\n      <td>10.0</td>\n      <td>1024.0</td>\n      <td>0.0</td>\n      <td>4.294438e+09</td>\n      <td>03:43:30</td>\n      <td>2</td>\n    </tr>\n    <tr>\n      <th>27340</th>\n      <td>02-Jul-2021 03:43:31.384</td>\n      <td>1625222611384</td>\n      <td>-0.053686</td>\n      <td>-0.121453</td>\n      <td>-0.109503</td>\n      <td>-0.001743</td>\n      <td>NaN</td>\n      <td>0.0</td>\n      <td>256.0</td>\n      <td>0.0</td>\n      <td>...</td>\n      <td>218.0</td>\n      <td>104.0</td>\n      <td>0.0</td>\n      <td>0.0</td>\n      <td>10.0</td>\n      <td>1024.0</td>\n      <td>0.0</td>\n      <td>4.294438e+09</td>\n      <td>03:43:31</td>\n      <td>2</td>\n    </tr>\n    <tr>\n      <th>27341</th>\n      <td>02-Jul-2021 03:43:31.884</td>\n      <td>1625222611884</td>\n      <td>-0.053035</td>\n      <td>-0.118294</td>\n      <td>-0.117170</td>\n      <td>-0.006100</td>\n      <td>NaN</td>\n      <td>0.0</td>\n      <td>256.0</td>\n      <td>0.0</td>\n      <td>...</td>\n      <td>218.0</td>\n      <td>104.0</td>\n      <td>0.0</td>\n      <td>0.0</td>\n      <td>10.0</td>\n      <td>1024.0</td>\n      <td>0.0</td>\n      <td>4.294438e+09</td>\n      <td>03:43:31</td>\n      <td>2</td>\n    </tr>\n    <tr>\n      <th>27342</th>\n      <td>02-Jul-2021 03:43:32.384</td>\n      <td>1625222612384</td>\n      <td>NaN</td>\n      <td>NaN</td>\n      <td>NaN</td>\n      <td>NaN</td>\n      <td>NaN</td>\n      <td>0.0</td>\n      <td>256.0</td>\n      <td>0.0</td>\n      <td>...</td>\n      <td>218.0</td>\n      <td>104.0</td>\n      <td>0.0</td>\n      <td>0.0</td>\n      <td>10.0</td>\n      <td>1024.0</td>\n      <td>0.0</td>\n      <td>4.294438e+09</td>\n      <td>03:43:32</td>\n      <td>2</td>\n    </tr>\n  </tbody>\n</table>\n<p>27343 rows × 51 columns</p>\n</div>"
     },
     "execution_count": 32,
     "metadata": {},
     "output_type": "execute_result"
    }
   ],
   "source": [
    "rcs02.sessions[\"july_2\"].rcs_df"
   ],
   "metadata": {
    "collapsed": false,
    "pycharm": {
     "name": "#%%\n"
    }
   }
  },
  {
   "cell_type": "code",
   "execution_count": 119,
   "outputs": [],
   "source": [
    "rcs_day_paths = [\n",
    "    '/Users/claysmyth/Desktop/Starr/RCS_Hypno_Data/RCS02L/4_12_21/Session1618291552302/DeviceNPC700398H/combinedDataTable.csv',\n",
    "    '/Users/claysmyth/Desktop/Starr/RCS_Hypno_Data/RCS02L/4_13_21/Session1618383275250/DeviceNPC700398H/combinedDataTable.csv',\n",
    "    '/Users/claysmyth/Desktop/Starr/RCS_Hypno_Data/RCS02L/4_14_21/Session1618466025554/DeviceNPC700398H/combinedDataTable.csv',\n",
    "    '/Users/claysmyth/Desktop/Starr/RCS_Hypno_Data/RCS02L/4_15_21/Session1618551933403/DeviceNPC700398H/combinedDataTable.csv',\n",
    "    '/Users/claysmyth/Desktop/Starr/RCS_Hypno_Data/RCS02L/4_16_21/Session1618641928594/DeviceNPC700398H/combinedDataTable.csv'\n",
    "]\n",
    "\n",
    "dreem_paths = [\n",
    "    '/Users/claysmyth/Desktop/Starr/RCS_Hypno_Data/DREEM/Patient_RCS02/4_12_21/hypnoCleaned.csv',\n",
    "    '/Users/claysmyth/Desktop/Starr/RCS_Hypno_Data/DREEM/Patient_RCS02/4_13_21/hypnoCleaned.csv',\n",
    "    '/Users/claysmyth/Desktop/Starr/RCS_Hypno_Data/DREEM/Patient_RCS02/4_14_21/hypnoCleaned.csv',\n",
    "    '/Users/claysmyth/Desktop/Starr/RCS_Hypno_Data/DREEM/Patient_RCS02/4_15_21/hypnoCleaned.csv',\n",
    "    '/Users/claysmyth/Desktop/Starr/RCS_Hypno_Data/DREEM/Patient_RCS02/4_16_21/hypnoCleaned.csv'\n",
    "]\n"
   ],
   "metadata": {
    "collapsed": false,
    "pycharm": {
     "name": "#%%\n"
    }
   }
  },
  {
   "cell_type": "code",
   "execution_count": 120,
   "outputs": [],
   "source": [
    "rcs02 = rs.Patient()"
   ],
   "metadata": {
    "collapsed": false,
    "pycharm": {
     "name": "#%%\n"
    }
   }
  },
  {
   "cell_type": "code",
   "execution_count": 121,
   "outputs": [],
   "source": [
    "dates = ['4_12', '4_13', '4_14', '4_15', '4_16']"
   ],
   "metadata": {
    "collapsed": false,
    "pycharm": {
     "name": "#%%\n"
    }
   }
  },
  {
   "cell_type": "code",
   "execution_count": 122,
   "outputs": [
    {
     "name": "stderr",
     "output_type": "stream",
     "text": [
      "<ipython-input-122-7ad1337707b1>:1: DeprecationWarning: `np.object` is a deprecated alias for the builtin `object`. To silence this warning, use `object` by itself. Doing this will not modify any behavior and is safe. \n",
      "Deprecated in NumPy 1.20; for more details and guidance: https://numpy.org/devdocs/release/1.20.0-notes.html#deprecations\n",
      "  sessions = np.ndarray((5,),dtype=np.object)\n"
     ]
    }
   ],
   "source": [
    "sessions = np.ndarray((5,),dtype=np.object)\n",
    "\n",
    "for i in range(len(rcs_day_paths)):\n",
    "    sessions[i] = rs.RecordingSession(rcs_day_paths[i])\n",
    "    sessions[i].load_dreem(dreem_paths[i])"
   ],
   "metadata": {
    "collapsed": false,
    "pycharm": {
     "name": "#%%\n"
    }
   }
  },
  {
   "cell_type": "code",
   "execution_count": 124,
   "outputs": [],
   "source": [
    "for i in range(len(sessions)):\n",
    "    rcs02.add_session(dates[i], sessions[i], 'left')"
   ],
   "metadata": {
    "collapsed": false,
    "pycharm": {
     "name": "#%%\n"
    }
   }
  },
  {
   "cell_type": "code",
   "execution_count": 125,
   "outputs": [
    {
     "name": "stdout",
     "output_type": "stream",
     "text": [
      "<recordingsessions.RecordingSession object at 0x7fc9fb3d22b0>\n",
      "Warning: This function replaces this object's rcs_df field with an rcs_df that has Nans permanently removed.\n",
      "To create original rcs_df, recreate RecordingSession object with identical filepath.\n"
     ]
    },
    {
     "name": "stderr",
     "output_type": "stream",
     "text": [
      "/opt/anaconda3/envs/sleep_class/lib/python3.9/site-packages/pandas/core/indexing.py:1637: SettingWithCopyWarning: \n",
      "A value is trying to be set on a copy of a slice from a DataFrame\n",
      "\n",
      "See the caveats in the documentation: https://pandas.pydata.org/pandas-docs/stable/user_guide/indexing.html#returning-a-view-versus-a-copy\n",
      "  self._setitem_single_block(indexer, value, name)\n",
      "/opt/anaconda3/envs/sleep_class/lib/python3.9/site-packages/pandas/core/indexing.py:1637: SettingWithCopyWarning: \n",
      "A value is trying to be set on a copy of a slice from a DataFrame\n",
      "\n",
      "See the caveats in the documentation: https://pandas.pydata.org/pandas-docs/stable/user_guide/indexing.html#returning-a-view-versus-a-copy\n",
      "  self._setitem_single_block(indexer, value, name)\n"
     ]
    },
    {
     "name": "stdout",
     "output_type": "stream",
     "text": [
      "<recordingsessions.RecordingSession object at 0x7fc98d708670>\n",
      "Warning: This function replaces this object's rcs_df field with an rcs_df that has Nans permanently removed.\n",
      "To create original rcs_df, recreate RecordingSession object with identical filepath.\n"
     ]
    },
    {
     "name": "stderr",
     "output_type": "stream",
     "text": [
      "/opt/anaconda3/envs/sleep_class/lib/python3.9/site-packages/pandas/core/indexing.py:1637: SettingWithCopyWarning: \n",
      "A value is trying to be set on a copy of a slice from a DataFrame\n",
      "\n",
      "See the caveats in the documentation: https://pandas.pydata.org/pandas-docs/stable/user_guide/indexing.html#returning-a-view-versus-a-copy\n",
      "  self._setitem_single_block(indexer, value, name)\n"
     ]
    },
    {
     "name": "stdout",
     "output_type": "stream",
     "text": [
      "<recordingsessions.RecordingSession object at 0x7fc9b5d0e1c0>\n",
      "Warning: This function replaces this object's rcs_df field with an rcs_df that has Nans permanently removed.\n",
      "To create original rcs_df, recreate RecordingSession object with identical filepath.\n",
      "<recordingsessions.RecordingSession object at 0x7fc9b5d0edc0>\n",
      "Warning: This function replaces this object's rcs_df field with an rcs_df that has Nans permanently removed.\n",
      "To create original rcs_df, recreate RecordingSession object with identical filepath.\n",
      "<recordingsessions.RecordingSession object at 0x7fc9b5d0eb80>\n",
      "Warning: This function replaces this object's rcs_df field with an rcs_df that has Nans permanently removed.\n",
      "To create original rcs_df, recreate RecordingSession object with identical filepath.\n"
     ]
    },
    {
     "name": "stderr",
     "output_type": "stream",
     "text": [
      "/opt/anaconda3/envs/sleep_class/lib/python3.9/site-packages/pandas/core/indexing.py:1637: SettingWithCopyWarning: \n",
      "A value is trying to be set on a copy of a slice from a DataFrame\n",
      "\n",
      "See the caveats in the documentation: https://pandas.pydata.org/pandas-docs/stable/user_guide/indexing.html#returning-a-view-versus-a-copy\n",
      "  self._setitem_single_block(indexer, value, name)\n"
     ]
    }
   ],
   "source": [
    "for i in rcs02.sessions.values():\n",
    "    print(i)\n",
    "    i.drop_Nan(\"Power_Band1\")\n",
    "    i.label_rcs_data()"
   ],
   "metadata": {
    "collapsed": false,
    "pycharm": {
     "name": "#%%\n"
    }
   }
  },
  {
   "cell_type": "code",
   "execution_count": 154,
   "outputs": [],
   "source": [
    "X, y = rcs02.get_sleep_train_data(dates[:-1], np.arange(17,19), omit_label=5)"
   ],
   "metadata": {
    "collapsed": false,
    "pycharm": {
     "name": "#%%\n"
    }
   }
  },
  {
   "cell_type": "code",
   "execution_count": 127,
   "outputs": [
    {
     "name": "stdout",
     "output_type": "stream",
     "text": [
      "localTime                        12-Apr-2021 22:27:29.332\n",
      "DerivedTime                                 1618291649332\n",
      "TD_key0                                         -0.066701\n",
      "TD_key1                                         -0.134415\n",
      "TD_key2                                         -0.122678\n",
      "TD_key3                                          0.007843\n",
      "TD_samplerate                                         NaN\n",
      "Power_ExternalValuesMask                              0.0\n",
      "Power_FftSize                                       256.0\n",
      "Power_IsPowerChannelOverrange                         0.0\n",
      "Power_ValidDataMask                            11111111.0\n",
      "Power_Band1                                         394.0\n",
      "Power_Band2                                          69.0\n",
      "Power_Band3                                           7.0\n",
      "Power_Band4                                           1.0\n",
      "Power_Band5                                         355.0\n",
      "Power_Band6                                         997.0\n",
      "Power_Band7                                         102.0\n",
      "Power_Band8                                         608.0\n",
      "MatchTime                                        22:27:29\n",
      "SleepStage                                              5\n",
      "Name: 0, dtype: object\n",
      "localTime                        13-Apr-2021 23:56:20.522\n",
      "DerivedTime                                 1618383380522\n",
      "TD_key0                                         -0.083729\n",
      "TD_key1                                         -0.152497\n",
      "TD_key2                                         -0.101512\n",
      "TD_key3                                          0.014814\n",
      "TD_samplerate                                         NaN\n",
      "Power_ExternalValuesMask                              0.0\n",
      "Power_FftSize                                       256.0\n",
      "Power_IsPowerChannelOverrange                         0.0\n",
      "Power_ValidDataMask                            11111111.0\n",
      "Power_Band1                                         173.0\n",
      "Power_Band2                                          10.0\n",
      "Power_Band3                                           5.0\n",
      "Power_Band4                                           0.0\n",
      "Power_Band5                                         307.0\n",
      "Power_Band6                                          99.0\n",
      "Power_Band7                                          60.0\n",
      "Power_Band8                                          65.0\n",
      "MatchTime                                        23:56:20\n",
      "SleepStage                                              5\n",
      "Name: 0, dtype: object\n",
      "localTime                        14-Apr-2021 22:55:21.056\n",
      "DerivedTime                               1618466121056.5\n",
      "TD_key0                                         -0.090561\n",
      "TD_key1                                         -0.158705\n",
      "TD_key2                                         -0.056911\n",
      "TD_key3                                          0.048254\n",
      "TD_samplerate                                         NaN\n",
      "Power_ExternalValuesMask                              0.0\n",
      "Power_FftSize                                       256.0\n",
      "Power_IsPowerChannelOverrange                         0.0\n",
      "Power_ValidDataMask                            11111111.0\n",
      "Power_Band1                                          49.0\n",
      "Power_Band2                                          45.0\n",
      "Power_Band3                                          28.0\n",
      "Power_Band4                                           0.0\n",
      "Power_Band5                                          53.0\n",
      "Power_Band6                                         458.0\n",
      "Power_Band7                                          49.0\n",
      "Power_Band8                                         158.0\n",
      "MatchTime                                        22:55:21\n",
      "SleepStage                                             -1\n",
      "Name: 0, dtype: object\n",
      "localTime                        15-Apr-2021 22:47:46.438\n",
      "DerivedTime                                 1618552066438\n",
      "TD_key0                                         -0.073534\n",
      "TD_key1                                         -0.143456\n",
      "TD_key2                                         -0.134017\n",
      "TD_key3                                          0.018517\n",
      "TD_samplerate                                         NaN\n",
      "Power_ExternalValuesMask                              0.0\n",
      "Power_FftSize                                       256.0\n",
      "Power_IsPowerChannelOverrange                         0.0\n",
      "Power_ValidDataMask                            11111111.0\n",
      "Power_Band1                                          40.0\n",
      "Power_Band2                                          31.0\n",
      "Power_Band3                                           9.0\n",
      "Power_Band4                                           0.0\n",
      "Power_Band5                                         605.0\n",
      "Power_Band6                                         283.0\n",
      "Power_Band7                                         556.0\n",
      "Power_Band8                                         307.0\n",
      "MatchTime                                        22:47:46\n",
      "SleepStage                                             -1\n",
      "Name: 0, dtype: object\n",
      "localTime                        16-Apr-2021 23:47:08.703\n",
      "DerivedTime                                 1618642028703\n",
      "TD_key0                                         -0.078848\n",
      "TD_key1                                         -0.148466\n",
      "TD_key2                                         -0.090929\n",
      "TD_key3                                          0.003921\n",
      "TD_samplerate                                         NaN\n",
      "Power_ExternalValuesMask                              0.0\n",
      "Power_FftSize                                       256.0\n",
      "Power_IsPowerChannelOverrange                         0.0\n",
      "Power_ValidDataMask                            11111111.0\n",
      "Power_Band1                                          62.0\n",
      "Power_Band2                                          23.0\n",
      "Power_Band3                                          13.0\n",
      "Power_Band4                                           1.0\n",
      "Power_Band5                                         275.0\n",
      "Power_Band6                                          96.0\n",
      "Power_Band7                                         201.0\n",
      "Power_Band8                                          68.0\n",
      "MatchTime                                        23:47:08\n",
      "SleepStage                                              5\n",
      "Name: 0, dtype: object\n"
     ]
    }
   ],
   "source": [
    "for i in sessions:\n",
    "    print(i.rcs_df.iloc[0])"
   ],
   "metadata": {
    "collapsed": false,
    "pycharm": {
     "name": "#%%\n"
    }
   }
  },
  {
   "cell_type": "code",
   "execution_count": 118,
   "outputs": [
    {
     "data": {
      "text/plain": "0"
     },
     "execution_count": 118,
     "metadata": {},
     "output_type": "execute_result"
    }
   ],
   "source": [
    "np.sum(rcs02.sessions['4_16'].rcs_df[\"SleepStage\"].values == 5)"
   ],
   "metadata": {
    "collapsed": false,
    "pycharm": {
     "name": "#%%\n"
    }
   }
  },
  {
   "cell_type": "code",
   "execution_count": 95,
   "outputs": [
    {
     "data": {
      "text/plain": "(171871, 2)"
     },
     "execution_count": 95,
     "metadata": {},
     "output_type": "execute_result"
    }
   ],
   "source": [
    "X.shape"
   ],
   "metadata": {
    "collapsed": false,
    "pycharm": {
     "name": "#%%\n"
    }
   }
  },
  {
   "cell_type": "code",
   "execution_count": 65,
   "outputs": [],
   "source": [
    "y_train = y[(i-1)::i]"
   ],
   "metadata": {
    "collapsed": false,
    "pycharm": {
     "name": "#%%\n"
    }
   }
  },
  {
   "cell_type": "code",
   "execution_count": 56,
   "outputs": [],
   "source": [
    "from sklearn.discriminant_analysis import LinearDiscriminantAnalysis"
   ],
   "metadata": {
    "collapsed": false,
    "pycharm": {
     "name": "#%%\n"
    }
   }
  },
  {
   "cell_type": "code",
   "execution_count": 61,
   "outputs": [],
   "source": [
    "import utils"
   ],
   "metadata": {
    "collapsed": false,
    "pycharm": {
     "name": "#%%\n"
    }
   }
  },
  {
   "cell_type": "code",
   "execution_count": 69,
   "outputs": [],
   "source": [
    "import pandas as pd"
   ],
   "metadata": {
    "collapsed": false,
    "pycharm": {
     "name": "#%%\n"
    }
   }
  },
  {
   "cell_type": "code",
   "execution_count": 155,
   "outputs": [
    {
     "name": "stdout",
     "output_type": "stream",
     "text": [
      "1\n",
      "Accuracy: 0.76871262629734\n",
      "F1: 0.17813237808353008\n",
      "2\n",
      "Accuracy: 0.7768409476240663\n",
      "F1: 0.24659653465346532\n",
      "5\n",
      "Accuracy: 0.7931034482758621\n",
      "F1: 0.34989200863930886\n",
      "10\n",
      "Accuracy: 0.8100366636113657\n",
      "F1: 0.4379661016949153\n",
      "20\n",
      "Accuracy: 0.8249312557286893\n",
      "F1: 0.5026041666666667\n",
      "30\n",
      "Accuracy: 0.8431911966987621\n",
      "F1: 0.5665399239543726\n",
      "60\n",
      "Accuracy: 0.8707015130674003\n",
      "F1: 0.6666666666666666\n"
     ]
    }
   ],
   "source": [
    "for i in [1, 2, 5, 10, 20, 30, 60]:\n",
    "    clf_LDA = LinearDiscriminantAnalysis()\n",
    "    X_tmp_ave, y_train = utils.average_data_labels(X,y,i)\n",
    "    clf_LDA.fit(X_tmp_ave, y_train)\n",
    "\n",
    "    X_val = rcs02.sessions[dates[-1]].rcs_df.iloc[:,17:19].values\n",
    "    y_val = np.copy(rcs02.sessions[dates[-1]].rcs_df.iloc[:,-1].values)\n",
    "    y_val[np.where(y_val != 1)] = 0\n",
    "\n",
    "    preds = clf_LDA.predict(utils.average_block(X_val,i))\n",
    "    print(i)\n",
    "    utils.get_scores(preds, y_val[(i-1)::i])"
   ],
   "metadata": {
    "collapsed": false,
    "pycharm": {
     "name": "#%%\n"
    }
   }
  },
  {
   "cell_type": "code",
   "execution_count": 62,
   "outputs": [
    {
     "ename": "TypeError",
     "evalue": "average_block() missing 2 required positional arguments: 'data' and 'block_size'",
     "output_type": "error",
     "traceback": [
      "\u001B[0;31m---------------------------------------------------------------------------\u001B[0m",
      "\u001B[0;31mTypeError\u001B[0m                                 Traceback (most recent call last)",
      "\u001B[0;32m<ipython-input-62-420eae8e3d18>\u001B[0m in \u001B[0;36m<module>\u001B[0;34m\u001B[0m\n\u001B[0;32m----> 1\u001B[0;31m \u001B[0mutils\u001B[0m\u001B[0;34m.\u001B[0m\u001B[0maverage_block\u001B[0m\u001B[0;34m(\u001B[0m\u001B[0;34m)\u001B[0m\u001B[0;34m\u001B[0m\u001B[0;34m\u001B[0m\u001B[0m\n\u001B[0m",
      "\u001B[0;31mTypeError\u001B[0m: average_block() missing 2 required positional arguments: 'data' and 'block_size'"
     ]
    }
   ],
   "source": [
    "utils.average_block()"
   ],
   "metadata": {
    "collapsed": false,
    "pycharm": {
     "name": "#%%\n"
    }
   }
  },
  {
   "cell_type": "code",
   "execution_count": 70,
   "outputs": [],
   "source": [
    "sessions_info = pd.DataFrame({'name': [], 'side': []})\n"
   ],
   "metadata": {
    "collapsed": false,
    "pycharm": {
     "name": "#%%\n"
    }
   }
  },
  {
   "cell_type": "code",
   "execution_count": 76,
   "outputs": [
    {
     "data": {
      "text/plain": "  name  side                                            session\n0   yo  left  <recordingsessions.RecordingSession object at ...",
      "text/html": "<div>\n<style scoped>\n    .dataframe tbody tr th:only-of-type {\n        vertical-align: middle;\n    }\n\n    .dataframe tbody tr th {\n        vertical-align: top;\n    }\n\n    .dataframe thead th {\n        text-align: right;\n    }\n</style>\n<table border=\"1\" class=\"dataframe\">\n  <thead>\n    <tr style=\"text-align: right;\">\n      <th></th>\n      <th>name</th>\n      <th>side</th>\n      <th>session</th>\n    </tr>\n  </thead>\n  <tbody>\n    <tr>\n      <th>0</th>\n      <td>yo</td>\n      <td>left</td>\n      <td>&lt;recordingsessions.RecordingSession object at ...</td>\n    </tr>\n  </tbody>\n</table>\n</div>"
     },
     "execution_count": 76,
     "metadata": {},
     "output_type": "execute_result"
    }
   ],
   "source": [
    "name = 'yo'\n",
    "side = 'left'\n",
    "session = sessions[0]\n",
    "sessions_info.append(pd.DataFrame({'name': [name], 'side': [side], 'session': [session]}))"
   ],
   "metadata": {
    "collapsed": false,
    "pycharm": {
     "name": "#%%\n"
    }
   }
  },
  {
   "cell_type": "code",
   "execution_count": 88,
   "outputs": [],
   "source": [
    "\n",
    "weights, sub_vec = utils.get_LD_parameters_for_config(clf_LDA)"
   ],
   "metadata": {
    "collapsed": false,
    "pycharm": {
     "name": "#%%\n"
    }
   }
  },
  {
   "cell_type": "code",
   "execution_count": 89,
   "outputs": [
    {
     "name": "stdout",
     "output_type": "stream",
     "text": [
      "[[1.40938752 0.11958196]]\n",
      "[[ 353.44149785 4165.64524014]]\n"
     ]
    }
   ],
   "source": [
    "print(weights)\n",
    "print(sub_vec)"
   ],
   "metadata": {
    "collapsed": false,
    "pycharm": {
     "name": "#%%\n"
    }
   }
  },
  {
   "cell_type": "code",
   "execution_count": 156,
   "outputs": [],
   "source": [
    "###################################"
   ],
   "metadata": {
    "collapsed": false,
    "pycharm": {
     "name": "#%%\n"
    }
   }
  },
  {
   "cell_type": "code",
   "execution_count": 157,
   "outputs": [
    {
     "data": {
      "text/plain": "{'4_12': <recordingsessions.RecordingSession at 0x7fc9fb3d22b0>,\n '4_13': <recordingsessions.RecordingSession at 0x7fc98d708670>,\n '4_14': <recordingsessions.RecordingSession at 0x7fc9b5d0e1c0>,\n '4_15': <recordingsessions.RecordingSession at 0x7fc9b5d0edc0>,\n '4_16': <recordingsessions.RecordingSession at 0x7fc9b5d0eb80>}"
     },
     "execution_count": 157,
     "metadata": {},
     "output_type": "execute_result"
    }
   ],
   "source": [
    "rcs02.sessions"
   ],
   "metadata": {
    "collapsed": false,
    "pycharm": {
     "name": "#%%\n"
    }
   }
  },
  {
   "cell_type": "code",
   "execution_count": 158,
   "outputs": [],
   "source": [
    "rcs02.add_session('july_2', july_2, 'left')"
   ],
   "metadata": {
    "collapsed": false,
    "pycharm": {
     "name": "#%%\n"
    }
   }
  },
  {
   "cell_type": "code",
   "execution_count": 165,
   "outputs": [
    {
     "data": {
      "text/plain": "localTime                                         02-Jul-2021 03:43:32.384\nDerivedTime                                                  1625222612384\nTD_key0                                                                NaN\nTD_key1                                                                NaN\nTD_key2                                                                NaN\nTD_key3                                                                NaN\nTD_samplerate                                                          NaN\nPower_ExternalValuesMask                                               0.0\nPower_FftSize                                                        256.0\nPower_IsPowerChannelOverrange                                          0.0\nPower_ValidDataMask                                             11111111.0\nPower_Band1                                                           10.0\nPower_Band2                                                          436.0\nPower_Band3                                                            1.0\nPower_Band4                                                            1.0\nPower_Band5                                                          507.0\nPower_Band6                                                           55.0\nPower_Band7                                                           51.0\nPower_Band8                                                           92.0\nAdaptive_CurrentAdaptiveState                                      State 0\nAdaptive_CurrentProgramAmplitudesInMilliamps_1                         0.0\nAdaptive_CurrentProgramAmplitudesInMilliamps_2                         0.0\nAdaptive_CurrentProgramAmplitudesInMilliamps_3                         0.0\nAdaptive_CurrentProgramAmplitudesInMilliamps_4                         0.0\nAdaptive_IsInHoldOffOnStartup                                          0.0\nAdaptive_Ld0DetectionStatus                                            0.0\nAdaptive_Ld1DetectionStatus                                            0.0\nAdaptive_PreviousAdaptiveState                                     State 4\nAdaptive_SensingStatus                                           1110111.0\nAdaptive_StateEntryCount                                          130441.0\nAdaptive_StateTime                                              32601279.0\nAdaptive_StimFlags                                                     0.0\nAdaptive_StimRateInHz                                                130.2\nAdaptive_Ld0_featureInputs_1                                         218.0\nAdaptive_Ld0_featureInputs_2                                         104.0\nAdaptive_Ld0_featureInputs_3                                           0.0\nAdaptive_Ld0_featureInputs_4                                           0.0\nAdaptive_Ld0_fixedDecimalPoint                                        10.0\nAdaptive_Ld0_highThreshold                                          1024.0\nAdaptive_Ld0_lowThreshold                                              0.0\nAdaptive_Ld0_output                                           4294270168.0\nAdaptive_Ld1_featureInputs_1                                         218.0\nAdaptive_Ld1_featureInputs_2                                         104.0\nAdaptive_Ld1_featureInputs_3                                           0.0\nAdaptive_Ld1_featureInputs_4                                           0.0\nAdaptive_Ld1_fixedDecimalPoint                                        10.0\nAdaptive_Ld1_highThreshold                                          1024.0\nAdaptive_Ld1_lowThreshold                                              0.0\nAdaptive_Ld1_output                                           4294438222.0\nMatchTime                                                         03:43:32\nSleepStage                                                               2\nName: 27342, dtype: object"
     },
     "execution_count": 165,
     "metadata": {},
     "output_type": "execute_result"
    }
   ],
   "source": [
    "july_2.rcs_df.iloc[-1]"
   ],
   "metadata": {
    "collapsed": false,
    "pycharm": {
     "name": "#%%\n"
    }
   }
  },
  {
   "cell_type": "code",
   "execution_count": 170,
   "outputs": [
    {
     "name": "stderr",
     "output_type": "stream",
     "text": [
      "/opt/anaconda3/envs/sleep_class/lib/python3.9/site-packages/IPython/core/interactiveshell.py:3437: DtypeWarning: Columns (19,27) have mixed types.Specify dtype option on import or set low_memory=False.\n",
      "  exec(code_obj, self.user_global_ns, self.user_ns)\n"
     ]
    }
   ],
   "source": [
    "july_1 = rs.RecordingSession('/Users/claysmyth/Desktop/Starr/RCS_Hypno_Data/RCS02L/7_1_21/Session1625120166750/DeviceNPC700398H/combinedDataTable.csv')\n",
    "\n",
    "july_1.load_dreem('/Users/claysmyth/Desktop/Starr/RCS_Hypno_Data/DREEM/Patient_RCS02/7_1_21/hypnoCleaned.csv')"
   ],
   "metadata": {
    "collapsed": false,
    "pycharm": {
     "name": "#%%\n"
    }
   }
  },
  {
   "cell_type": "code",
   "execution_count": 171,
   "outputs": [
    {
     "name": "stdout",
     "output_type": "stream",
     "text": [
      "Warning: This function replaces this object's rcs_df field with an rcs_df that has Nans permanently removed.\n",
      "To create original rcs_df, recreate RecordingSession object with identical filepath.\n"
     ]
    },
    {
     "name": "stderr",
     "output_type": "stream",
     "text": [
      "/opt/anaconda3/envs/sleep_class/lib/python3.9/site-packages/pandas/core/indexing.py:1637: SettingWithCopyWarning: \n",
      "A value is trying to be set on a copy of a slice from a DataFrame\n",
      "\n",
      "See the caveats in the documentation: https://pandas.pydata.org/pandas-docs/stable/user_guide/indexing.html#returning-a-view-versus-a-copy\n",
      "  self._setitem_single_block(indexer, value, name)\n",
      "/opt/anaconda3/envs/sleep_class/lib/python3.9/site-packages/pandas/core/indexing.py:1637: SettingWithCopyWarning: \n",
      "A value is trying to be set on a copy of a slice from a DataFrame\n",
      "\n",
      "See the caveats in the documentation: https://pandas.pydata.org/pandas-docs/stable/user_guide/indexing.html#returning-a-view-versus-a-copy\n",
      "  self._setitem_single_block(indexer, value, name)\n"
     ]
    }
   ],
   "source": [
    "july_1.drop_Nan('Power_Band1')\n",
    "july_1.label_rcs_data()"
   ],
   "metadata": {
    "collapsed": false,
    "pycharm": {
     "name": "#%%\n"
    }
   }
  },
  {
   "cell_type": "code",
   "execution_count": 172,
   "outputs": [
    {
     "data": {
      "text/plain": "localTime                                         30-Jun-2021 23:17:45.028\nDerivedTime                                                  1625120265028\nTD_key0                                                          -0.079607\nTD_key1                                                          -0.147486\nTD_key2                                                          -0.091685\nTD_key3                                                            0.01721\nTD_samplerate                                                          NaN\nPower_ExternalValuesMask                                               0.0\nPower_FftSize                                                        256.0\nPower_IsPowerChannelOverrange                                          0.0\nPower_ValidDataMask                                             11111111.0\nPower_Band1                                                           42.0\nPower_Band2                                                           30.0\nPower_Band3                                                            2.0\nPower_Band4                                                            0.0\nPower_Band5                                                          274.0\nPower_Band6                                                           24.0\nPower_Band7                                                          184.0\nPower_Band8                                                          109.0\nAdaptive_CurrentAdaptiveState                                      State 0\nAdaptive_CurrentProgramAmplitudesInMilliamps_1                         2.2\nAdaptive_CurrentProgramAmplitudesInMilliamps_2                         0.0\nAdaptive_CurrentProgramAmplitudesInMilliamps_3                         0.0\nAdaptive_CurrentProgramAmplitudesInMilliamps_4                         0.0\nAdaptive_IsInHoldOffOnStartup                                          0.0\nAdaptive_Ld0DetectionStatus                                            0.0\nAdaptive_Ld1DetectionStatus                                            0.0\nAdaptive_PreviousAdaptiveState                                     State 4\nAdaptive_SensingStatus                                           1110111.0\nAdaptive_StateEntryCount                                          130355.0\nAdaptive_StateTime                                              32506705.0\nAdaptive_StimFlags                                                     0.0\nAdaptive_StimRateInHz                                                130.2\nAdaptive_Ld0_featureInputs_1                                          51.0\nAdaptive_Ld0_featureInputs_2                                         191.0\nAdaptive_Ld0_featureInputs_3                                           0.0\nAdaptive_Ld0_featureInputs_4                                           0.0\nAdaptive_Ld0_fixedDecimalPoint                                        10.0\nAdaptive_Ld0_highThreshold                                          1024.0\nAdaptive_Ld0_lowThreshold                                              0.0\nAdaptive_Ld0_output                                           4294039711.0\nAdaptive_Ld1_featureInputs_1                                          51.0\nAdaptive_Ld1_featureInputs_2                                         191.0\nAdaptive_Ld1_featureInputs_3                                           0.0\nAdaptive_Ld1_featureInputs_4                                           0.0\nAdaptive_Ld1_fixedDecimalPoint                                        10.0\nAdaptive_Ld1_highThreshold                                          1024.0\nAdaptive_Ld1_lowThreshold                                              0.0\nAdaptive_Ld1_output                                           4294207765.0\nMatchTime                                                         23:17:45\nSleepStage                                                               5\nName: 0, dtype: object"
     },
     "execution_count": 172,
     "metadata": {},
     "output_type": "execute_result"
    }
   ],
   "source": [
    "july_1.rcs_df.iloc[0]\n"
   ],
   "metadata": {
    "collapsed": false,
    "pycharm": {
     "name": "#%%\n"
    }
   }
  },
  {
   "cell_type": "code",
   "execution_count": 178,
   "outputs": [],
   "source": [
    "rcs02.add_session('july_1', july_1, 'left')"
   ],
   "metadata": {
    "collapsed": false,
    "pycharm": {
     "name": "#%%\n"
    }
   }
  },
  {
   "cell_type": "code",
   "execution_count": 239,
   "outputs": [
    {
     "data": {
      "text/plain": "Power_Band5    274.0\nPower_Band6     24.0\nPower_Band7    184.0\nPower_Band8    109.0\nName: 0, dtype: object"
     },
     "execution_count": 239,
     "metadata": {},
     "output_type": "execute_result"
    }
   ],
   "source": [
    "july_1.rcs_df.iloc[0,15:19]\n"
   ],
   "metadata": {
    "collapsed": false,
    "pycharm": {
     "name": "#%%\n"
    }
   }
  },
  {
   "cell_type": "code",
   "execution_count": 428,
   "outputs": [],
   "source": [
    "cols = np.array([15, 16, 17, 18])\n"
   ],
   "metadata": {
    "collapsed": false,
    "pycharm": {
     "name": "#%%\n"
    }
   }
  },
  {
   "cell_type": "code",
   "execution_count": 438,
   "outputs": [],
   "source": [
    "X, y = rcs02.get_sleep_train_data(['july_2'], cols, sleep_stages=1)\n"
   ],
   "metadata": {
    "collapsed": false,
    "pycharm": {
     "name": "#%%\n"
    }
   }
  },
  {
   "cell_type": "code",
   "execution_count": 439,
   "outputs": [
    {
     "data": {
      "text/plain": "LinearDiscriminantAnalysis()"
     },
     "execution_count": 439,
     "metadata": {},
     "output_type": "execute_result"
    }
   ],
   "source": [
    "clf_LDA = LinearDiscriminantAnalysis()\n",
    "X_tmp_ave, y_train = utils.average_data_labels(X,y,60)\n",
    "clf_LDA.fit(X_tmp_ave, y_train)"
   ],
   "metadata": {
    "collapsed": false,
    "pycharm": {
     "name": "#%%\n"
    }
   }
  },
  {
   "cell_type": "code",
   "execution_count": 440,
   "outputs": [
    {
     "name": "stdout",
     "output_type": "stream",
     "text": [
      "Accuracy: 0.8791208791208791\n",
      "F1: 0.5378151260504203\n"
     ]
    }
   ],
   "source": [
    "X_val = rcs02.sessions['july_2'].rcs_df.iloc[:,cols].values\n",
    "y_val = np.copy(rcs02.sessions['july_2'].rcs_df.iloc[:,-1].values)\n",
    "y_val[np.where(y_val != 1)] = 0\n",
    "\n",
    "preds = clf_LDA.predict(utils.average_block(X_val,60))\n",
    "utils.get_scores(preds, y_val[(60-1)::60])"
   ],
   "metadata": {
    "collapsed": false,
    "pycharm": {
     "name": "#%%\n"
    }
   }
  },
  {
   "cell_type": "code",
   "execution_count": 441,
   "outputs": [
    {
     "data": {
      "text/plain": "(array([[ 0.0331275 ,  3.38475845,  0.89998437, -0.43181191]]),\n array([[5241.84582927,   51.30328919,  192.94695354, -402.14092393]]))"
     },
     "execution_count": 441,
     "metadata": {},
     "output_type": "execute_result"
    }
   ],
   "source": [
    "utils.get_LD_parameters_for_config(clf_LDA)"
   ],
   "metadata": {
    "collapsed": false,
    "pycharm": {
     "name": "#%%\n"
    }
   }
  },
  {
   "cell_type": "code",
   "execution_count": 466,
   "outputs": [],
   "source": [
    "july1_labels = np.zeros(len(july_1.rcs_df))\n",
    "july1_labels[np.where(july_1.rcs_df[\"SleepStage\"].values == 1)] = 1"
   ],
   "metadata": {
    "collapsed": false,
    "pycharm": {
     "name": "#%%\n"
    }
   }
  },
  {
   "cell_type": "code",
   "execution_count": 467,
   "outputs": [],
   "source": [
    "LD0_july1_predictions = np.zeros_like(july1_labels)\n",
    "LD0_july1_predictions[np.where(july_1.rcs_df[\"Adaptive_CurrentAdaptiveState\"].values == \"State 4\")] = 1"
   ],
   "metadata": {
    "collapsed": false,
    "pycharm": {
     "name": "#%%\n"
    }
   }
  },
  {
   "cell_type": "code",
   "execution_count": 468,
   "outputs": [
    {
     "name": "stdout",
     "output_type": "stream",
     "text": [
      "Accuracy: 0.9440322238711045\n",
      "F1: 0.7184577522559475\n"
     ]
    }
   ],
   "source": [
    "utils.get_scores(LD0_july1_predictions, july1_labels)\n"
   ],
   "metadata": {
    "collapsed": false,
    "pycharm": {
     "name": "#%%\n"
    }
   }
  },
  {
   "cell_type": "code",
   "execution_count": 469,
   "outputs": [
    {
     "name": "stdout",
     "output_type": "stream",
     "text": [
      "Accuracy: 0.868924404783674\n",
      "F1: 0.5541179397860163\n"
     ]
    }
   ],
   "source": [
    "july2_labels = np.zeros(len(july_2.rcs_df))\n",
    "july2_labels[np.where(july_2.rcs_df[\"SleepStage\"].values == 1)] = 1\n",
    "\n",
    "\n",
    "LD0_july2_predictions = np.zeros_like(july2_labels)\n",
    "LD0_july2_predictions[np.where(july_2.rcs_df[\"Adaptive_CurrentAdaptiveState\"].values == \"State 4\")] = 1\n",
    "\n",
    "\n",
    "utils.get_scores(LD0_july2_predictions, july2_labels)\n"
   ],
   "metadata": {
    "collapsed": false,
    "pycharm": {
     "name": "#%%\n"
    }
   }
  },
  {
   "cell_type": "code",
   "execution_count": 470,
   "outputs": [],
   "source": [
    "agg_pred = np.append(LD0_july1_predictions, LD0_july2_predictions)\n",
    "agg_labels = np.append(july1_labels, july2_labels)\n"
   ],
   "metadata": {
    "collapsed": false,
    "pycharm": {
     "name": "#%%\n"
    }
   }
  },
  {
   "cell_type": "code",
   "execution_count": 471,
   "outputs": [
    {
     "name": "stdout",
     "output_type": "stream",
     "text": [
      "Accuracy: 0.9208698005955066\n",
      "F1: 0.6531540438995452\n"
     ]
    }
   ],
   "source": [
    "utils.get_scores(agg_pred, agg_labels)"
   ],
   "metadata": {
    "collapsed": false,
    "pycharm": {
     "name": "#%%\n"
    }
   }
  },
  {
   "cell_type": "code",
   "execution_count": null,
   "outputs": [],
   "source": [
    "############################################"
   ],
   "metadata": {
    "collapsed": false,
    "pycharm": {
     "name": "#%%\n"
    }
   }
  },
  {
   "cell_type": "code",
   "execution_count": 293,
   "outputs": [],
   "source": [
    "rcs05_july_24A = rs.RecordingSession('/Users/claysmyth/Desktop/Starr/RCS_Hypno_Data/RCS05/7_24_21/Right/Session1627104469000/DeviceNPC700415H/combinedDataTable.csv')\n",
    "rcs05_july_24B = rs.RecordingSession('/Users/claysmyth/Desktop/Starr/RCS_Hypno_Data/RCS05/7_24_21/Right/Session1627116681392/DeviceNPC700415H/combinedDataTable.csv')"
   ],
   "metadata": {
    "collapsed": false,
    "pycharm": {
     "name": "#%%\n"
    }
   }
  },
  {
   "cell_type": "code",
   "execution_count": 296,
   "outputs": [
    {
     "data": {
      "text/plain": "localTime                        24-Jul-2021 01:50:49.223\nDerivedTime                                 1627116649223\nTD_key0                                               NaN\nTD_key1                                               NaN\nTD_key2                                               NaN\nTD_key3                                               NaN\nTD_samplerate                                         NaN\nPower_ExternalValuesMask                              0.0\nPower_FftSize                                       256.0\nPower_IsPowerChannelOverrange                         0.0\nPower_ValidDataMask                            11111111.0\nPower_Band1                                       64979.0\nPower_Band2                                       52183.0\nPower_Band3                                       22533.0\nPower_Band4                                       23906.0\nPower_Band5                                        2057.0\nPower_Band6                                         260.0\nPower_Band7                                        2446.0\nPower_Band8                                         874.0\nName: 3018426, dtype: object"
     },
     "execution_count": 296,
     "metadata": {},
     "output_type": "execute_result"
    }
   ],
   "source": [
    "rcs05_july_24A.rcs_df.iloc[-1]\n"
   ],
   "metadata": {
    "collapsed": false,
    "pycharm": {
     "name": "#%%\n"
    }
   }
  },
  {
   "cell_type": "code",
   "execution_count": 297,
   "outputs": [
    {
     "data": {
      "text/plain": "localTime                        24-Jul-2021 01:52:59.294\nDerivedTime                                 1627116779294\nTD_key0                                         -0.569517\nTD_key1                                         -0.956048\nTD_key2                                         -0.231042\nTD_key3                                         -0.038173\nTD_samplerate                                         NaN\nPower_ExternalValuesMask                              NaN\nPower_FftSize                                         NaN\nPower_IsPowerChannelOverrange                         NaN\nPower_ValidDataMask                                   NaN\nPower_Band1                                           NaN\nPower_Band2                                           NaN\nPower_Band3                                           NaN\nPower_Band4                                           NaN\nPower_Band5                                           NaN\nPower_Band6                                           NaN\nPower_Band7                                           NaN\nPower_Band8                                           NaN\nName: 0, dtype: object"
     },
     "execution_count": 297,
     "metadata": {},
     "output_type": "execute_result"
    }
   ],
   "source": [
    "rcs05_july_24B.rcs_df.iloc[0]"
   ],
   "metadata": {
    "collapsed": false,
    "pycharm": {
     "name": "#%%\n"
    }
   }
  },
  {
   "cell_type": "code",
   "execution_count": 298,
   "outputs": [
    {
     "name": "stdout",
     "output_type": "stream",
     "text": [
      "Warning: This function replaces this object's rcs_df field with an rcs_df that has Nans permanently removed.\n",
      "To create original rcs_df, recreate RecordingSession object with identical filepath.\n",
      "Warning: This function replaces this object's rcs_df field with an rcs_df that has Nans permanently removed.\n",
      "To create original rcs_df, recreate RecordingSession object with identical filepath.\n"
     ]
    },
    {
     "name": "stderr",
     "output_type": "stream",
     "text": [
      "/opt/anaconda3/envs/sleep_class/lib/python3.9/site-packages/pandas/core/indexing.py:1637: SettingWithCopyWarning: \n",
      "A value is trying to be set on a copy of a slice from a DataFrame\n",
      "\n",
      "See the caveats in the documentation: https://pandas.pydata.org/pandas-docs/stable/user_guide/indexing.html#returning-a-view-versus-a-copy\n",
      "  self._setitem_single_block(indexer, value, name)\n"
     ]
    }
   ],
   "source": [
    "rcs05_july_24A.load_dreem('/Users/claysmyth/Desktop/Starr/RCS_Hypno_Data/DREEM/RCS05/07_24_21/hypnoCleaned.csv')\n",
    "rcs05_july_24B.load_dreem('/Users/claysmyth/Desktop/Starr/RCS_Hypno_Data/DREEM/RCS05/07_24_21/hypnoCleaned.csv')\n",
    "\n",
    "rcs05_july_24A.drop_Nan('Power_Band1')\n",
    "rcs05_july_24B.drop_Nan('Power_Band1')\n",
    "\n",
    "rcs05_july_24A.label_rcs_data()\n",
    "rcs05_july_24B.label_rcs_data()"
   ],
   "metadata": {
    "collapsed": false,
    "pycharm": {
     "name": "#%%\n"
    }
   }
  },
  {
   "cell_type": "code",
   "execution_count": 300,
   "outputs": [],
   "source": [
    "rcs05 = rs.Patient()\n",
    "rcs05.add_session('july_24A', rcs05_july_24A, 'right')\n",
    "rcs05.add_session('july_24B', rcs05_july_24B, 'right')\n"
   ],
   "metadata": {
    "collapsed": false,
    "pycharm": {
     "name": "#%%\n"
    }
   }
  },
  {
   "cell_type": "code",
   "execution_count": 301,
   "outputs": [
    {
     "name": "stdout",
     "output_type": "stream",
     "text": [
      "Warning: This function replaces this object's rcs_df field with an rcs_df that has Nans permanently removed.\n",
      "To create original rcs_df, recreate RecordingSession object with identical filepath.\n"
     ]
    },
    {
     "name": "stderr",
     "output_type": "stream",
     "text": [
      "/opt/anaconda3/envs/sleep_class/lib/python3.9/site-packages/pandas/core/indexing.py:1637: SettingWithCopyWarning: \n",
      "A value is trying to be set on a copy of a slice from a DataFrame\n",
      "\n",
      "See the caveats in the documentation: https://pandas.pydata.org/pandas-docs/stable/user_guide/indexing.html#returning-a-view-versus-a-copy\n",
      "  self._setitem_single_block(indexer, value, name)\n",
      "/opt/anaconda3/envs/sleep_class/lib/python3.9/site-packages/pandas/core/indexing.py:1637: SettingWithCopyWarning: \n",
      "A value is trying to be set on a copy of a slice from a DataFrame\n",
      "\n",
      "See the caveats in the documentation: https://pandas.pydata.org/pandas-docs/stable/user_guide/indexing.html#returning-a-view-versus-a-copy\n",
      "  self._setitem_single_block(indexer, value, name)\n"
     ]
    }
   ],
   "source": [
    "rcs05_july_23 = rs.RecordingSession('/Users/claysmyth/Desktop/Starr/RCS_Hypno_Data/RCS05/7_23_21/Session1627017373279/DeviceNPC700415H/combinedDataTable.csv')\n",
    "rcs05_july_23.load_dreem('/Users/claysmyth/Desktop/Starr/RCS_Hypno_Data/DREEM/RCS05/07_23_21/hypnoCleaned.csv')\n",
    "rcs05_july_23.drop_Nan('Power_Band1')\n",
    "rcs05_july_23.label_rcs_data()"
   ],
   "metadata": {
    "collapsed": false,
    "pycharm": {
     "name": "#%%\n"
    }
   }
  },
  {
   "cell_type": "code",
   "execution_count": 302,
   "outputs": [],
   "source": [
    "rcs05.add_session('july_23', rcs05_july_23, 'right')"
   ],
   "metadata": {
    "collapsed": false,
    "pycharm": {
     "name": "#%%\n"
    }
   }
  },
  {
   "cell_type": "code",
   "execution_count": 400,
   "outputs": [],
   "source": [
    "cols = np.array([15, 16, 17, 18])\n"
   ],
   "metadata": {
    "collapsed": false,
    "pycharm": {
     "name": "#%%\n"
    }
   }
  },
  {
   "cell_type": "code",
   "execution_count": 401,
   "outputs": [],
   "source": [
    "X, y = rcs05.get_sleep_train_data(['july_23', 'july_24B'], cols, omit_label=5)"
   ],
   "metadata": {
    "collapsed": false,
    "pycharm": {
     "name": "#%%\n"
    }
   }
  },
  {
   "cell_type": "code",
   "execution_count": 359,
   "outputs": [],
   "source": [
    "num_ave = 60"
   ],
   "metadata": {
    "collapsed": false,
    "pycharm": {
     "name": "#%%\n"
    }
   }
  },
  {
   "cell_type": "code",
   "execution_count": 402,
   "outputs": [
    {
     "data": {
      "text/plain": "LinearDiscriminantAnalysis()"
     },
     "execution_count": 402,
     "metadata": {},
     "output_type": "execute_result"
    }
   ],
   "source": [
    "clf_LDA = LinearDiscriminantAnalysis()\n",
    "X_tmp_ave, y_train = utils.average_data_labels(X,y,num_ave)\n",
    "clf_LDA.fit(X_tmp_ave, y_train)"
   ],
   "metadata": {
    "collapsed": false,
    "pycharm": {
     "name": "#%%\n"
    }
   }
  },
  {
   "cell_type": "code",
   "execution_count": 402,
   "outputs": [],
   "source": [],
   "metadata": {
    "collapsed": false,
    "pycharm": {
     "name": "#%%\n"
    }
   }
  },
  {
   "cell_type": "code",
   "execution_count": 404,
   "outputs": [
    {
     "name": "stdout",
     "output_type": "stream",
     "text": [
      "Accuracy: 0.6725\n",
      "F1: 0.12080536912751678\n"
     ]
    }
   ],
   "source": [
    "X_val = rcs05.sessions['july_24A'].rcs_df.iloc[:,cols].values\n",
    "y_val = np.copy(rcs05.sessions['july_24A'].rcs_df.iloc[:,-1].values)\n",
    "y_val[np.where(y_val != 1)] = 0\n",
    "\n",
    "preds = clf_LDA.predict(utils.average_block(X_val,num_ave))\n",
    "utils.get_scores(preds, y_val[(num_ave-1)::num_ave])"
   ],
   "metadata": {
    "collapsed": false,
    "pycharm": {
     "name": "#%%\n"
    }
   }
  },
  {
   "cell_type": "code",
   "execution_count": 367,
   "outputs": [
    {
     "data": {
      "text/plain": "<Figure size 432x288 with 1 Axes>",
      "image/png": "[encoded data removed]"
     },
     "metadata": {
      "needs_background": "light"
     },
     "output_type": "display_data"
    }
   ],
   "source": [
    "deep = np.where(y_train == 1)\n",
    "nd = np.where(y_train != 1)\n",
    "\n",
    "plt.scatter(X_tmp_ave[deep,2], X_tmp_ave[deep,3], label='Deep',s=2)\n",
    "plt.scatter(X_tmp_ave[nd,2], X_tmp_ave[nd,3], label='ND',s=2)\n",
    "\n",
    "plt.xlabel(\"Delta Power\", size=20)\n",
    "plt.xticks(size=20)\n",
    "plt.ylabel(\"Beta Power\", size=20)\n",
    "\n",
    "plt.yticks(size=20)\n",
    "plt.legend()\n",
    "plt.show()"
   ],
   "metadata": {
    "collapsed": false,
    "pycharm": {
     "name": "#%%\n"
    }
   }
  },
  {
   "cell_type": "code",
   "execution_count": 379,
   "outputs": [],
   "source": [
    "y_tmp = y[59::60]"
   ],
   "metadata": {
    "collapsed": false,
    "pycharm": {
     "name": "#%%\n"
    }
   }
  },
  {
   "cell_type": "code",
   "execution_count": 484,
   "outputs": [],
   "source": [
    "X_tmp = rcs05.sessions['july_23'].rcs_df.iloc[:,np.arange(17,19)].values\n",
    "y_tmp = rcs05.sessions['july_23'].rcs_df.iloc[:,-1].values\n",
    "\n",
    "X_tmp_ave = utils.average_block(X_tmp,num_ave)\n",
    "y_tmp_ave = y_tmp[(num_ave-1)::num_ave]"
   ],
   "metadata": {
    "collapsed": false,
    "pycharm": {
     "name": "#%%\n"
    }
   }
  },
  {
   "cell_type": "code",
   "execution_count": 485,
   "outputs": [
    {
     "data": {
      "text/plain": "<Figure size 720x720 with 1 Axes>",
      "image/png": "[encoded data removed]"
     },
     "metadata": {
      "needs_background": "light"
     },
     "output_type": "display_data"
    }
   ],
   "source": [
    "plt.figure(figsize=(10,10))\n",
    "plt.scatter(X_tmp_ave[y_tmp_ave == 1,0], X_tmp_ave[y_tmp_ave == 1,1], label='deep', s=5)\n",
    "plt.scatter(X_tmp_ave[np.where(y_tmp_ave == 2),0], X_tmp_ave[np.where(y_tmp_ave == 2),1], label='2',s=5)\n",
    "plt.scatter(X_tmp_ave[np.where(y_tmp_ave == 3),0], X_tmp_ave[np.where(y_tmp_ave == 3),1], label='3',s=5)\n",
    "plt.scatter(X_tmp_ave[np.where(y_tmp_ave == 4),0], X_tmp_ave[np.where(y_tmp_ave == 4),1], label='4',s=5)\n",
    "#plt.scatter(X_tmp_ave[np.where(y_train == 5),2], X_tmp_ave[np.where(y_train == 5),3], label='5',s=5)\n",
    "\n",
    "# x1 = np.arange(620,720)\n",
    "# x2 = -1*(w1[0,0] * x1 + intercept) / w1[0,1]\n",
    "#\n",
    "# #test understanding of hyperplane. i.e. compare all predicted points to\n",
    "# # equation of hyperplane and verify that predictions are correct\n",
    "#\n",
    "# plt.plot(x1,x2, color='k')\n",
    "\n",
    "plt.xlabel(\"Delta Power\", size=20)\n",
    "plt.xticks(size=20)\n",
    "plt.ylabel(\"Beta Power\", size=20)\n",
    "\n",
    "plt.yticks(size=20)\n",
    "plt.legend()\n",
    "plt.show()"
   ],
   "metadata": {
    "collapsed": false,
    "pycharm": {
     "name": "#%%\n"
    }
   }
  },
  {
   "cell_type": "code",
   "execution_count": 382,
   "outputs": [
    {
     "data": {
      "text/plain": "array([0, 1])"
     },
     "execution_count": 382,
     "metadata": {},
     "output_type": "execute_result"
    }
   ],
   "source": [
    "np.unique(y_tmp)#%%\n"
   ],
   "metadata": {
    "collapsed": false,
    "pycharm": {
     "name": "#%%\n"
    }
   }
  },
  {
   "cell_type": "code",
   "execution_count": 386,
   "outputs": [
    {
     "data": {
      "text/plain": "       Power_Band7  Power_Band8\n0       17548880.0        824.0\n1        4146200.0       1794.0\n2        2894016.0       2354.0\n3        1092744.0       2840.0\n4         179207.0       1075.0\n...            ...          ...\n60472        657.0       1470.0\n60473       2842.0        974.0\n60474       4898.0       1440.0\n60475       1812.0        818.0\n60476       1155.0        970.0\n\n[60477 rows x 2 columns]",
      "text/html": "<div>\n<style scoped>\n    .dataframe tbody tr th:only-of-type {\n        vertical-align: middle;\n    }\n\n    .dataframe tbody tr th {\n        vertical-align: top;\n    }\n\n    .dataframe thead th {\n        text-align: right;\n    }\n</style>\n<table border=\"1\" class=\"dataframe\">\n  <thead>\n    <tr style=\"text-align: right;\">\n      <th></th>\n      <th>Power_Band7</th>\n      <th>Power_Band8</th>\n    </tr>\n  </thead>\n  <tbody>\n    <tr>\n      <th>0</th>\n      <td>17548880.0</td>\n      <td>824.0</td>\n    </tr>\n    <tr>\n      <th>1</th>\n      <td>4146200.0</td>\n      <td>1794.0</td>\n    </tr>\n    <tr>\n      <th>2</th>\n      <td>2894016.0</td>\n      <td>2354.0</td>\n    </tr>\n    <tr>\n      <th>3</th>\n      <td>1092744.0</td>\n      <td>2840.0</td>\n    </tr>\n    <tr>\n      <th>4</th>\n      <td>179207.0</td>\n      <td>1075.0</td>\n    </tr>\n    <tr>\n      <th>...</th>\n      <td>...</td>\n      <td>...</td>\n    </tr>\n    <tr>\n      <th>60472</th>\n      <td>657.0</td>\n      <td>1470.0</td>\n    </tr>\n    <tr>\n      <th>60473</th>\n      <td>2842.0</td>\n      <td>974.0</td>\n    </tr>\n    <tr>\n      <th>60474</th>\n      <td>4898.0</td>\n      <td>1440.0</td>\n    </tr>\n    <tr>\n      <th>60475</th>\n      <td>1812.0</td>\n      <td>818.0</td>\n    </tr>\n    <tr>\n      <th>60476</th>\n      <td>1155.0</td>\n      <td>970.0</td>\n    </tr>\n  </tbody>\n</table>\n<p>60477 rows × 2 columns</p>\n</div>"
     },
     "execution_count": 386,
     "metadata": {},
     "output_type": "execute_result"
    }
   ],
   "source": [
    "X_tmp\n"
   ],
   "metadata": {
    "collapsed": false,
    "pycharm": {
     "name": "#%%\n"
    }
   }
  },
  {
   "cell_type": "code",
   "execution_count": 442,
   "outputs": [
    {
     "data": {
      "text/plain": "True"
     },
     "execution_count": 442,
     "metadata": {},
     "output_type": "execute_result"
    }
   ],
   "source": [
    "a = '00'\n",
    "b = '23'\n",
    "\n",
    "int(a) < int(b)"
   ],
   "metadata": {
    "collapsed": false,
    "pycharm": {
     "name": "#%%\n"
    }
   }
  },
  {
   "cell_type": "code",
   "execution_count": 444,
   "outputs": [
    {
     "data": {
      "text/plain": "23"
     },
     "execution_count": 444,
     "metadata": {},
     "output_type": "execute_result"
    }
   ],
   "source": [
    "int(b)"
   ],
   "metadata": {
    "collapsed": false,
    "pycharm": {
     "name": "#%%\n"
    }
   }
  },
  {
   "cell_type": "code",
   "execution_count": 472,
   "outputs": [
    {
     "name": "stdout",
     "output_type": "stream",
     "text": [
      "Stored 'rcs05' (Patient)\n"
     ]
    }
   ],
   "source": [
    "%store rcs05"
   ],
   "metadata": {
    "collapsed": false,
    "pycharm": {
     "name": "#%%\n"
    }
   }
  },
  {
   "cell_type": "code",
   "execution_count": 473,
   "outputs": [],
   "source": [
    "%store -r a"
   ],
   "metadata": {
    "collapsed": false,
    "pycharm": {
     "name": "#%%\n"
    }
   }
  },
  {
   "cell_type": "code",
   "execution_count": 477,
   "outputs": [
    {
     "ename": "AttributeError",
     "evalue": "'RecordingSession' object has no attribute 'parsed_df'",
     "output_type": "error",
     "traceback": [
      "\u001B[0;31m---------------------------------------------------------------------------\u001B[0m",
      "\u001B[0;31mAttributeError\u001B[0m                            Traceback (most recent call last)",
      "\u001B[0;32m<ipython-input-477-0d3d8bf35f2b>\u001B[0m in \u001B[0;36m<module>\u001B[0;34m\u001B[0m\n\u001B[0;32m----> 1\u001B[0;31m \u001B[0mrcs05\u001B[0m\u001B[0;34m.\u001B[0m\u001B[0msessions\u001B[0m\u001B[0;34m[\u001B[0m\u001B[0;34m'july_23'\u001B[0m\u001B[0;34m]\u001B[0m\u001B[0;34m.\u001B[0m\u001B[0mparsed_df\u001B[0m\u001B[0;34m\u001B[0m\u001B[0;34m\u001B[0m\u001B[0m\n\u001B[0m",
      "\u001B[0;31mAttributeError\u001B[0m: 'RecordingSession' object has no attribute 'parsed_df'"
     ]
    }
   ],
   "source": [
    "rcs05.sessions['july_23'].parsed_df"
   ],
   "metadata": {
    "collapsed": false,
    "pycharm": {
     "name": "#%%\n"
    }
   }
  },
  {
   "cell_type": "code",
   "execution_count": 487,
   "outputs": [
    {
     "data": {
      "text/plain": "{'4_12': <recordingsessions.RecordingSession at 0x7fc9fb3d22b0>,\n '4_13': <recordingsessions.RecordingSession at 0x7fc98d708670>,\n '4_14': <recordingsessions.RecordingSession at 0x7fc9b5d0e1c0>,\n '4_15': <recordingsessions.RecordingSession at 0x7fc9b5d0edc0>,\n '4_16': <recordingsessions.RecordingSession at 0x7fc9b5d0eb80>,\n 'july_2': <recordingsessions.RecordingSession at 0x7fc98d708460>,\n 'july_1': <recordingsessions.RecordingSession at 0x7fc9fb3ca790>}"
     },
     "execution_count": 487,
     "metadata": {},
     "output_type": "execute_result"
    }
   ],
   "source": [
    "rcs02.sessions\n"
   ],
   "metadata": {
    "collapsed": false,
    "pycharm": {
     "name": "#%%\n"
    }
   }
  },
  {
   "cell_type": "code",
   "execution_count": 490,
   "outputs": [],
   "source": [
    "rcs02_0412 = rs.RecordingSession(\"/Users/claysmyth/Desktop/Starr/RCS_Hypno_Data/RCS02/RCS02R/04:12:21/Session1618291548497/DeviceNPC700404H/combinedDataTable.csv\")\n",
    "rcs02_0413 = rs.RecordingSession(\"/Users/claysmyth/Desktop/Starr/RCS_Hypno_Data/RCS02/RCS02R/04:13:21/Session1618383288520/DeviceNPC700404H/combinedDataTable.csv\")\n",
    "rcs02_0414 = rs.RecordingSession(\"/Users/claysmyth/Desktop/Starr/RCS_Hypno_Data/RCS02/RCS02R/04:14:21/Session1618466029477/DeviceNPC700404H/combinedDataTable.csv\")\n",
    "rcs02_0415 = rs.RecordingSession(\"/Users/claysmyth/Desktop/Starr/RCS_Hypno_Data/RCS02/RCS02R/04:15:21/Session1618551973564/DeviceNPC700404H/combinedDataTable.csv\")\n",
    "rcs02_0416 = rs.RecordingSession(\"/Users/claysmyth/Desktop/Starr/RCS_Hypno_Data/RCS02/RCS02R/04:16:21/Session1618641937636/DeviceNPC700404H/combinedDataTable.csv\")"
   ],
   "metadata": {
    "collapsed": false,
    "pycharm": {
     "name": "#%%\n"
    }
   }
  },
  {
   "cell_type": "code",
   "execution_count": 491,
   "outputs": [],
   "source": [
    "rcs02_0412.load_dreem('/Users/claysmyth/Desktop/Starr/RCS_Hypno_Data/DREEM/Patient_RCS02/4_12_21/hypnoCleaned.csv')\n",
    "rcs02_0413.load_dreem('/Users/claysmyth/Desktop/Starr/RCS_Hypno_Data/DREEM/Patient_RCS02/4_13_21/hypnoCleaned.csv')\n",
    "rcs02_0414.load_dreem('/Users/claysmyth/Desktop/Starr/RCS_Hypno_Data/DREEM/Patient_RCS02/4_14_21/hypnoCleaned.csv')\n",
    "rcs02_0415.load_dreem('/Users/claysmyth/Desktop/Starr/RCS_Hypno_Data/DREEM/Patient_RCS02/4_15_21/hypnoCleaned.csv')\n",
    "rcs02_0416.load_dreem('/Users/claysmyth/Desktop/Starr/RCS_Hypno_Data/DREEM/Patient_RCS02/4_16_21/hypnoCleaned.csv')"
   ],
   "metadata": {
    "collapsed": false,
    "pycharm": {
     "name": "#%%\n"
    }
   }
  },
  {
   "cell_type": "code",
   "execution_count": 492,
   "outputs": [
    {
     "name": "stdout",
     "output_type": "stream",
     "text": [
      "Warning: This function replaces this object's rcs_df field with an rcs_df that has Nan rows permanently removed.\n",
      "To create original rcs_df, recreate RecordingSession object with identical filepath. If flag is true, then original columns, as deemed in cols_to_save, will be copied to parsed_df field for saving.\n"
     ]
    },
    {
     "name": "stderr",
     "output_type": "stream",
     "text": [
      "/opt/anaconda3/envs/sleep_class/lib/python3.9/site-packages/pandas/core/indexing.py:1637: SettingWithCopyWarning: \n",
      "A value is trying to be set on a copy of a slice from a DataFrame\n",
      "\n",
      "See the caveats in the documentation: https://pandas.pydata.org/pandas-docs/stable/user_guide/indexing.html#returning-a-view-versus-a-copy\n",
      "  self._setitem_single_block(indexer, value, name)\n",
      "/opt/anaconda3/envs/sleep_class/lib/python3.9/site-packages/pandas/core/indexing.py:1637: SettingWithCopyWarning: \n",
      "A value is trying to be set on a copy of a slice from a DataFrame\n",
      "\n",
      "See the caveats in the documentation: https://pandas.pydata.org/pandas-docs/stable/user_guide/indexing.html#returning-a-view-versus-a-copy\n",
      "  self._setitem_single_block(indexer, value, name)\n"
     ]
    },
    {
     "name": "stdout",
     "output_type": "stream",
     "text": [
      "Warning: This function replaces this object's rcs_df field with an rcs_df that has Nan rows permanently removed.\n",
      "To create original rcs_df, recreate RecordingSession object with identical filepath. If flag is true, then original columns, as deemed in cols_to_save, will be copied to parsed_df field for saving.\n"
     ]
    },
    {
     "name": "stderr",
     "output_type": "stream",
     "text": [
      "/opt/anaconda3/envs/sleep_class/lib/python3.9/site-packages/pandas/core/indexing.py:1637: SettingWithCopyWarning: \n",
      "A value is trying to be set on a copy of a slice from a DataFrame\n",
      "\n",
      "See the caveats in the documentation: https://pandas.pydata.org/pandas-docs/stable/user_guide/indexing.html#returning-a-view-versus-a-copy\n",
      "  self._setitem_single_block(indexer, value, name)\n"
     ]
    },
    {
     "name": "stdout",
     "output_type": "stream",
     "text": [
      "Warning: This function replaces this object's rcs_df field with an rcs_df that has Nan rows permanently removed.\n",
      "To create original rcs_df, recreate RecordingSession object with identical filepath. If flag is true, then original columns, as deemed in cols_to_save, will be copied to parsed_df field for saving.\n",
      "Warning: This function replaces this object's rcs_df field with an rcs_df that has Nan rows permanently removed.\n",
      "To create original rcs_df, recreate RecordingSession object with identical filepath. If flag is true, then original columns, as deemed in cols_to_save, will be copied to parsed_df field for saving.\n",
      "Warning: This function replaces this object's rcs_df field with an rcs_df that has Nan rows permanently removed.\n",
      "To create original rcs_df, recreate RecordingSession object with identical filepath. If flag is true, then original columns, as deemed in cols_to_save, will be copied to parsed_df field for saving.\n"
     ]
    },
    {
     "name": "stderr",
     "output_type": "stream",
     "text": [
      "/opt/anaconda3/envs/sleep_class/lib/python3.9/site-packages/pandas/core/indexing.py:1637: SettingWithCopyWarning: \n",
      "A value is trying to be set on a copy of a slice from a DataFrame\n",
      "\n",
      "See the caveats in the documentation: https://pandas.pydata.org/pandas-docs/stable/user_guide/indexing.html#returning-a-view-versus-a-copy\n",
      "  self._setitem_single_block(indexer, value, name)\n"
     ]
    }
   ],
   "source": [
    "rcs02_right = [rcs02_0412, rcs02_0413, rcs02_0414, rcs02_0415, rcs02_0416]\n",
    "\n",
    "for i in rcs02_right:\n",
    "    i.drop_Nan(\"Power_Band7\")\n",
    "    i.label_rcs_data()"
   ],
   "metadata": {
    "collapsed": false,
    "pycharm": {
     "name": "#%%\n"
    }
   }
  },
  {
   "cell_type": "code",
   "execution_count": 493,
   "outputs": [],
   "source": [
    "rcs02R = rs.Patient()"
   ],
   "metadata": {
    "collapsed": false,
    "pycharm": {
     "name": "#%%\n"
    }
   }
  },
  {
   "cell_type": "code",
   "execution_count": 495,
   "outputs": [],
   "source": [
    "names = ['0412', '0413', '0414', '0415', '0416']\n",
    "\n",
    "for i in range(len(rcs02_right)):\n",
    "    rcs02R.add_session(names[i], rcs02_right[i], 'right')"
   ],
   "metadata": {
    "collapsed": false,
    "pycharm": {
     "name": "#%%\n"
    }
   }
  },
  {
   "cell_type": "code",
   "execution_count": 499,
   "outputs": [],
   "source": [
    "\n",
    "X, y = rcs02R.get_sleep_train_data(names, np.arange(17,19))"
   ],
   "metadata": {
    "collapsed": false,
    "pycharm": {
     "name": "#%%\n"
    }
   }
  },
  {
   "cell_type": "code",
   "execution_count": 500,
   "outputs": [
    {
     "name": "stdout",
     "output_type": "stream",
     "text": [
      "1\n",
      "Accuracy: 0.7759103641456583\n",
      "F1: 0.21374400247639685\n",
      "2\n",
      "Accuracy: 0.78313997088535\n",
      "F1: 0.28546511627906973\n",
      "5\n",
      "Accuracy: 0.7980588948935701\n",
      "F1: 0.3865996649916248\n",
      "10\n",
      "Accuracy: 0.814251047871167\n",
      "F1: 0.47309136420525655\n",
      "20\n",
      "Accuracy: 0.8274492497793469\n",
      "F1: 0.5328554360812425\n",
      "30\n",
      "Accuracy: 0.8491065519523494\n",
      "F1: 0.6122448979591838\n",
      "60\n",
      "Accuracy: 0.8834437086092716\n",
      "F1: 0.7142857142857143\n"
     ]
    }
   ],
   "source": [
    "for i in [1, 2, 5, 10, 20, 30, 60]:\n",
    "    clf_LDA = LinearDiscriminantAnalysis()\n",
    "    X_tmp_ave, y_train = utils.average_data_labels(X,y,i)\n",
    "    clf_LDA.fit(X_tmp_ave, y_train)\n",
    "\n",
    "    X_val = rcs02R.sessions[names[-1]].rcs_df.iloc[:,17:19].values\n",
    "    y_val = np.copy(rcs02R.sessions[names[-1]].rcs_df.iloc[:,-1].values)\n",
    "    y_val[np.where(y_val != 1)] = 0\n",
    "\n",
    "    preds = clf_LDA.predict(utils.average_block(X_val,i))\n",
    "    print(i)\n",
    "    utils.get_scores(preds, y_val[(i-1)::i])"
   ],
   "metadata": {
    "collapsed": false,
    "pycharm": {
     "name": "#%%\n"
    }
   }
  },
  {
   "cell_type": "code",
   "execution_count": 502,
   "outputs": [],
   "source": [
    "weights, subv = utils.get_LD_parameters_for_config(clf_LDA)"
   ],
   "metadata": {
    "collapsed": false,
    "pycharm": {
     "name": "#%%\n"
    }
   }
  },
  {
   "cell_type": "code",
   "execution_count": 503,
   "outputs": [
    {
     "data": {
      "text/plain": "array([[ 292.84056841, -678.19130925]])"
     },
     "execution_count": 503,
     "metadata": {},
     "output_type": "execute_result"
    }
   ],
   "source": [
    "subv"
   ],
   "metadata": {
    "collapsed": false,
    "pycharm": {
     "name": "#%%\n"
    }
   }
  },
  {
   "cell_type": "code",
   "execution_count": null,
   "outputs": [],
   "source": [],
   "metadata": {
    "collapsed": false,
    "pycharm": {
     "name": "#%%\n"
    }
   }
  }
 ],
 "metadata": {
  "kernelspec": {
   "display_name": "Python 3",
   "language": "python",
   "name": "python3"
  },
  "language_info": {
   "codemirror_mode": {
    "name": "ipython",
    "version": 2
   },
   "file_extension": ".py",
   "mimetype": "text/x-python",
   "name": "python",
   "nbconvert_exporter": "python",
   "pygments_lexer": "ipython2",
   "version": "2.7.6"
  }
 },
 "nbformat": 4,
 "nbformat_minor": 0
}